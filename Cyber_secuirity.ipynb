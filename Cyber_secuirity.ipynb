{
  "nbformat": 4,
  "nbformat_minor": 0,
  "metadata": {
    "colab": {
      "name": "Cyber_secuirity.ipynb",
      "provenance": []
    },
    "kernelspec": {
      "name": "python3",
      "display_name": "Python 3"
    },
    "language_info": {
      "name": "python"
    }
  },
  "cells": [
    {
      "cell_type": "code",
      "metadata": {
        "id": "kUTRfsw8p4T3"
      },
      "source": [
        "import requests\n",
        "#import os\n",
        "from datetime import datetime\n"
      ],
      "execution_count": null,
      "outputs": []
    },
    {
      "cell_type": "code",
      "metadata": {
        "id": "NT4W6jGe0-Y8",
        "colab": {
          "base_uri": "https://localhost:8080/"
        },
        "outputId": "d25db928-0624-462e-c47e-91d1fce1a76a"
      },
      "source": [
        "api_key='80856d92e25aab2302af3c86ee052c62'\n",
        "location=input(\"Enter the city name:\")"
      ],
      "execution_count": 4,
      "outputs": [
        {
          "output_type": "stream",
          "text": [
            "Enter the city name:delhi\n"
          ],
          "name": "stdout"
        }
      ]
    },
    {
      "cell_type": "code",
      "metadata": {
        "id": "PUtwdJ_c2YHC"
      },
      "source": [
        "complete_api_link=\"https://api.openweathermap.org/data/2.5/weather?q=\"+location+\"appid=\"+api_key\n",
        "api_link= requests.get(complete_api_link)\n",
        "api_data=api_link.json()"
      ],
      "execution_count": 15,
      "outputs": []
    },
    {
      "cell_type": "code",
      "metadata": {
        "id": "KkmkdWDN6MHe"
      },
      "source": [
        "#create variables to store data and display name\n",
        "temp_city=((api_data['main']['temp']) - 273.15)\n",
        "weather_desc=api_data['weather'][0]['description']\n",
        "hmdt=api_data['main']['humadity']\n",
        "wind_spd=api_data['wind']['speed']\n",
        "date_time=datetime.now().strframe(\"%d %b %Y    |  %I:%M:%S  %p\")"
      ],
      "execution_count": null,
      "outputs": []
    },
    {
      "cell_type": "code",
      "metadata": {
        "id": "aWt86ZXz8qpo"
      },
      "source": [
        "print(\"------------------------------------------------------------------------------------------------------\")\n",
        "print(\"Weather State for -{}    ||  {}\".format(location.upper(),date_time))\n",
        "print(\"------------------------------------------------------------------------------------------------------\")"
      ],
      "execution_count": null,
      "outputs": []
    },
    {
      "cell_type": "code",
      "metadata": {
        "id": "2blqw8aF9KuI"
      },
      "source": [
        "print(\"Current temperature is: {:2f}  deg C\",format(temp_city))\n",
        "print(\"Current weather desc  :\",weather_desc)\n",
        "print(\"Current Humadity      :\",hmdt,  '%')\n",
        "print(\"Current wind speed    :\",wind_spd,'kmph')"
      ],
      "execution_count": null,
      "outputs": []
    }
  ]
}